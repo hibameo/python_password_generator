{
  "nbformat": 4,
  "nbformat_minor": 0,
  "metadata": {
    "colab": {
      "provenance": [],
      "include_colab_link": true
    },
    "kernelspec": {
      "name": "python3",
      "display_name": "Python 3"
    },
    "language_info": {
      "name": "python"
    }
  },
  "cells": [
    {
      "cell_type": "markdown",
      "metadata": {
        "id": "view-in-github",
        "colab_type": "text"
      },
      "source": [
        "<a href=\"https://colab.research.google.com/github/hibameo/python_password_generator/blob/main/password_generator_.ipynb\" target=\"_parent\"><img src=\"https://colab.research.google.com/assets/colab-badge.svg\" alt=\"Open In Colab\"/></a>"
      ]
    },
    {
      "cell_type": "markdown",
      "source": [
        "***Password Generator***\n",
        "\n",
        " Features:\n",
        "\n",
        " Generates a strong random password\n",
        "\n",
        " Includes numbers, letters, and special characters"
      ],
      "metadata": {
        "id": "izTeW0CsorUo"
      }
    },
    {
      "cell_type": "code",
      "execution_count": 1,
      "metadata": {
        "colab": {
          "base_uri": "https://localhost:8080/"
        },
        "id": "imhvAJ_XoCON",
        "outputId": "278c6273-3626-4911-da67-7e43a723f344"
      },
      "outputs": [
        {
          "output_type": "stream",
          "name": "stdout",
          "text": [
            "Enter password length: 5\n",
            "Generated Password: dsJOj\n"
          ]
        }
      ],
      "source": [
        "import random\n",
        "import string\n",
        "\n",
        "def generate_password(length=12):\n",
        "    chars = string.ascii_letters + string.digits + string.punctuation\n",
        "    password = ''.join(random.choice(chars) for _ in range(length))\n",
        "    return password\n",
        "\n",
        "length = int(input(\"Enter password length: \"))\n",
        "print(\"Generated Password:\", generate_password(length))\n"
      ]
    }
  ]
}